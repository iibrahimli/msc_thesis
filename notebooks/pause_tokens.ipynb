{
 "cells": [
  {
   "cell_type": "code",
   "execution_count": 1,
   "metadata": {},
   "outputs": [],
   "source": [
    "import torch\n",
    "\n",
    "from arithmetic_lm.train_utils import insert_pause_tokens"
   ]
  },
  {
   "cell_type": "code",
   "execution_count": 2,
   "metadata": {},
   "outputs": [
    {
     "name": "stdout",
     "output_type": "stream",
     "text": [
      "{0, 2, 3}\n",
      "tensor([-1,  0,  1, -1,  2, -1,  3,  4])\n",
      "tensor([[0., 1., 1., 0., 1., 0., 0., 0.],\n",
      "        [5., 1., 3., 5., 5., 5., 5., 5.],\n",
      "        [0., 0., 0., 0., 0., 0., 0., 0.]])\n",
      "tensor([[100.,   1.,   1., 100.,   1., 100.,   0.,   0.],\n",
      "        [100.,   1.,   3., 100.,   5., 100.,   5.,   5.],\n",
      "        [100.,   0.,   0., 100.,   0., 100.,   0.,   0.]])\n"
     ]
    },
    {
     "data": {
      "text/plain": [
       "tensor([[100.,   1.,   1., 100.,   1., 100.,   0.,   0.],\n",
       "        [100.,   1.,   3., 100.,   5., 100.,   5.,   5.],\n",
       "        [100.,   0.,   0., 100.,   0., 100.,   0.,   0.]])"
      ]
     },
     "execution_count": 2,
     "metadata": {},
     "output_type": "execute_result"
    }
   ],
   "source": [
    "a = torch.tensor(\n",
    "    [\n",
    "        [1, 1, 1.0, 0, 0],\n",
    "        [1, 3, 5.0, 5, 5],\n",
    "        [0, 0, 0, 0, 0],\n",
    "    ]\n",
    ")\n",
    "\n",
    "insert_pause_tokens(\n",
    "    a,\n",
    "    pause_token_id=100,\n",
    "    n_pause_tokens=3,\n",
    ")"
   ]
  },
  {
   "cell_type": "code",
   "execution_count": null,
   "metadata": {},
   "outputs": [],
   "source": []
  }
 ],
 "metadata": {
  "kernelspec": {
   "display_name": "msc-thesis-P7I560r2-py3.12",
   "language": "python",
   "name": "python3"
  },
  "language_info": {
   "codemirror_mode": {
    "name": "ipython",
    "version": 3
   },
   "file_extension": ".py",
   "mimetype": "text/x-python",
   "name": "python",
   "nbconvert_exporter": "python",
   "pygments_lexer": "ipython3",
   "version": "3.12.0"
  }
 },
 "nbformat": 4,
 "nbformat_minor": 2
}
