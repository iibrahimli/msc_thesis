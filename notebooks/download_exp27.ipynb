{
 "cells": [
  {
   "cell_type": "code",
   "execution_count": 9,
   "metadata": {},
   "outputs": [],
   "source": [
    "import os\n",
    "import wandb\n",
    "import pandas as pd\n",
    "from tqdm import tqdm"
   ]
  },
  {
   "cell_type": "code",
   "execution_count": 10,
   "metadata": {},
   "outputs": [],
   "source": [
    "api = wandb.Api()"
   ]
  },
  {
   "cell_type": "code",
   "execution_count": 11,
   "metadata": {},
   "outputs": [],
   "source": [
    "entity, project = \"compositional-generalization-ut\", \"experiment-27\"\n",
    "runs = api.runs(entity + \"/\" + project)"
   ]
  },
  {
   "cell_type": "markdown",
   "metadata": {},
   "source": [
    "## Light run"
   ]
  },
  {
   "cell_type": "code",
   "execution_count": 7,
   "metadata": {},
   "outputs": [
    {
     "name": "stderr",
     "output_type": "stream",
     "text": [
      "100%|██████████| 226/226 [00:12<00:00, 18.29it/s]\n"
     ]
    }
   ],
   "source": [
    "# dump all runs to a csv file using run.scan_history()\n",
    "\n",
    "max_steps = 32_000\n",
    "\n",
    "summary = {}\n",
    "\n",
    "for run in tqdm(runs):\n",
    "    if run.state == \"running\":\n",
    "        continue\n",
    "\n",
    "    # get run config\n",
    "    run_config = run.config\n",
    "    run_name = run.name\n",
    "    task = run_config[\"data\"][\"task\"]\n",
    "    n_embd = run_config[\"model_hparams\"][\"n_embd\"]\n",
    "    train_size = run_config[\"data\"][\"train_size\"]\n",
    "    seed = run_config[\"training\"][\"seed\"]\n",
    "\n",
    "    metrics = (\n",
    "        [\n",
    "            # \"train_loss\",\n",
    "            # \"val_loss\",\n",
    "            \"trainer/global_step\",\n",
    "        ]\n",
    "        + [f\"val_loss/{ds}\" for ds in run_config[\"data\"][\"test\"]]\n",
    "        + [f\"val_acc/{ds}\" for ds in run_config[\"data\"][\"test\"]]\n",
    "    )\n",
    "\n",
    "    summary[run_name] = {\n",
    "        \"name\": run_name,\n",
    "        \"task\": task,\n",
    "        \"n_embd\": n_embd,\n",
    "        \"train_size\": train_size,\n",
    "        \"seed\": seed,\n",
    "    }\n",
    "\n",
    "    metrics_summ_dict = run.summary._json_dict\n",
    "\n",
    "    # add latest metrics to summary\n",
    "    for metric in metrics:\n",
    "        summary[run_name][metric] = metrics_summ_dict[metric]\n",
    "\n",
    "\n",
    "# make df from summary and save to csv\n",
    "summary_df = pd.DataFrame(summary).T\n",
    "# drop index\n",
    "summary_df.reset_index(drop=True, inplace=True)\n",
    "summary_df.to_csv(\"data/exp27/summary_light.csv\")"
   ]
  },
  {
   "cell_type": "markdown",
   "metadata": {},
   "source": [
    "## Full run"
   ]
  },
  {
   "cell_type": "code",
   "execution_count": 12,
   "metadata": {},
   "outputs": [
    {
     "name": "stderr",
     "output_type": "stream",
     "text": [
      " 36%|███▋      | 82/226 [29:39<1:24:43, 35.30s/it]\u001b[34m\u001b[1mwandb\u001b[0m: \u001b[33mWARNING\u001b[0m A graphql request initiated by the public wandb API timed out (timeout=19 sec). Create a new API with an integer timeout larger than 19, e.g., `api = wandb.Api(timeout=29)` to increase the graphql timeout.\n",
      " 59%|█████▉    | 134/226 [1:10:33<1:40:45, 65.71s/it]\u001b[34m\u001b[1mwandb\u001b[0m: \u001b[33mWARNING\u001b[0m A graphql request initiated by the public wandb API timed out (timeout=19 sec). Create a new API with an integer timeout larger than 19, e.g., `api = wandb.Api(timeout=29)` to increase the graphql timeout.\n",
      " 70%|███████   | 159/226 [1:39:34<1:23:41, 74.95s/it] \u001b[34m\u001b[1mwandb\u001b[0m: \u001b[33mWARNING\u001b[0m A graphql request initiated by the public wandb API timed out (timeout=19 sec). Create a new API with an integer timeout larger than 19, e.g., `api = wandb.Api(timeout=29)` to increase the graphql timeout.\n",
      " 81%|████████  | 183/226 [2:04:21<36:38, 51.14s/it]   \u001b[34m\u001b[1mwandb\u001b[0m: \u001b[33mWARNING\u001b[0m A graphql request initiated by the public wandb API timed out (timeout=19 sec). Create a new API with an integer timeout larger than 19, e.g., `api = wandb.Api(timeout=29)` to increase the graphql timeout.\n",
      "\u001b[34m\u001b[1mwandb\u001b[0m: \u001b[33mWARNING\u001b[0m A graphql request initiated by the public wandb API timed out (timeout=19 sec). Create a new API with an integer timeout larger than 19, e.g., `api = wandb.Api(timeout=29)` to increase the graphql timeout.\n",
      "\u001b[34m\u001b[1mwandb\u001b[0m: \u001b[33mWARNING\u001b[0m A graphql request initiated by the public wandb API timed out (timeout=19 sec). Create a new API with an integer timeout larger than 19, e.g., `api = wandb.Api(timeout=29)` to increase the graphql timeout.\n",
      "\u001b[34m\u001b[1mwandb\u001b[0m: \u001b[33mWARNING\u001b[0m A graphql request initiated by the public wandb API timed out (timeout=19 sec). Create a new API with an integer timeout larger than 19, e.g., `api = wandb.Api(timeout=29)` to increase the graphql timeout.\n",
      "\u001b[34m\u001b[1mwandb\u001b[0m: \u001b[33mWARNING\u001b[0m A graphql request initiated by the public wandb API timed out (timeout=19 sec). Create a new API with an integer timeout larger than 19, e.g., `api = wandb.Api(timeout=29)` to increase the graphql timeout.\n",
      "\u001b[34m\u001b[1mwandb\u001b[0m: Network error (ReadTimeout), entering retry loop.\n",
      " 94%|█████████▍| 213/226 [2:38:29<04:49, 22.25s/it]   \u001b[34m\u001b[1mwandb\u001b[0m: \u001b[33mWARNING\u001b[0m A graphql request initiated by the public wandb API timed out (timeout=19 sec). Create a new API with an integer timeout larger than 19, e.g., `api = wandb.Api(timeout=29)` to increase the graphql timeout.\n",
      "100%|██████████| 226/226 [2:44:40<00:00, 43.72s/it]\n"
     ]
    }
   ],
   "source": [
    "# dump all runs to a csv file using run.scan_history()\n",
    "\n",
    "max_steps = 32_000\n",
    "\n",
    "summary = {}\n",
    "\n",
    "for run in tqdm(runs):\n",
    "\n",
    "    if run.state == \"running\":\n",
    "        continue\n",
    "\n",
    "    # get run config\n",
    "    run_config = run.config\n",
    "    run_name = run.name\n",
    "\n",
    "    # skip if csv for run already exists\n",
    "    if os.path.isfile(f\"data/exp27/{run_name}.csv\"):\n",
    "        continue\n",
    "\n",
    "    task = run_config[\"data\"][\"task\"]\n",
    "    n_embd = run_config[\"model_hparams\"][\"n_embd\"]\n",
    "    train_size = run_config[\"data\"][\"train_size\"]\n",
    "    seed = run_config[\"training\"][\"seed\"]\n",
    "\n",
    "    metrics = (\n",
    "        [\n",
    "            # \"train_loss\",\n",
    "            # \"val_loss\",\n",
    "            \"trainer/global_step\",\n",
    "        ]\n",
    "        + [f\"val_loss/{ds}\" for ds in run_config[\"data\"][\"test\"]]\n",
    "        + [f\"val_acc/{ds}\" for ds in run_config[\"data\"][\"test\"]]\n",
    "    )\n",
    "\n",
    "    # collect all metrics\n",
    "    history = {}\n",
    "    metric_hist = run.scan_history(keys=metrics)\n",
    "    for metric in metrics:\n",
    "        history[metric] = [x[metric] for x in metric_hist]\n",
    "\n",
    "    # make df from history\n",
    "    df = pd.DataFrame(history)\n",
    "\n",
    "    # save to csv for run\n",
    "    df.to_csv(f\"data/exp27/{run_name}.csv\")\n",
    "\n",
    "    # limit to max_steps\n",
    "    df = df[df[\"trainer/global_step\"] <= max_steps]\n",
    "\n",
    "    summary[run_name] = {\n",
    "        \"name\": run_name,\n",
    "        \"task\": task,\n",
    "        \"n_embd\": n_embd,\n",
    "        \"train_size\": train_size,\n",
    "        \"seed\": seed,\n",
    "    }\n",
    "\n",
    "    # add latest metrics to summary\n",
    "    for metric in metrics:\n",
    "        summary[run_name][metric] = df[metric].iloc[-1]\n",
    "\n",
    "\n",
    "# make df from summary and save to csv\n",
    "summary_df = pd.DataFrame(summary).T\n",
    "summary_df.to_csv(\"data/exp27/summary.csv\")"
   ]
  },
  {
   "cell_type": "code",
   "execution_count": null,
   "metadata": {},
   "outputs": [],
   "source": []
  }
 ],
 "metadata": {
  "kernelspec": {
   "display_name": "msc-thesis-P7I560r2-py3.12",
   "language": "python",
   "name": "python3"
  },
  "language_info": {
   "codemirror_mode": {
    "name": "ipython",
    "version": 3
   },
   "file_extension": ".py",
   "mimetype": "text/x-python",
   "name": "python",
   "nbconvert_exporter": "python",
   "pygments_lexer": "ipython3",
   "version": "3.12.0"
  }
 },
 "nbformat": 4,
 "nbformat_minor": 2
}
