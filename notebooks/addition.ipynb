{
 "cells": [
  {
   "cell_type": "markdown",
   "metadata": {},
   "source": [
    "# Initial experiment: small vanilla transformer (NanoGPT) trained on plain addition"
   ]
  },
  {
   "cell_type": "code",
   "execution_count": 1,
   "metadata": {},
   "outputs": [],
   "source": [
    "# %load_ext autoreload\n",
    "# %autoreload 2"
   ]
  },
  {
   "cell_type": "code",
   "execution_count": 2,
   "metadata": {},
   "outputs": [],
   "source": [
    "import torch\n",
    "import lightning as L\n",
    "\n",
    "from arithmetic_lm.tokenizer import CharTokenizer\n",
    "from arithmetic_lm.utils import get_torch_device, set_seed\n",
    "from arithmetic_lm.constants import DATA_DIR, ROOT_DIR, CHECKPOINTS_DIR\n",
    "from arithmetic_lm.dataset import ArithmeticDataset, ArithmeticEvalDataset, LightningArithmeticDataModule\n",
    "from arithmetic_lm.model.nanogpt import LightningNanoGPT"
   ]
  },
  {
   "cell_type": "code",
   "execution_count": 3,
   "metadata": {},
   "outputs": [
    {
     "name": "stdout",
     "output_type": "stream",
     "text": [
      "Using device: mps\n"
     ]
    }
   ],
   "source": [
    "DEVICE = get_torch_device()\n",
    "print(f\"Using device: {DEVICE}\")\n",
    "\n",
    "set_seed(1337)"
   ]
  },
  {
   "cell_type": "code",
   "execution_count": 4,
   "metadata": {},
   "outputs": [],
   "source": [
    "SEQ_LEN = 256\n",
    "BATCH_SIZE = 32\n",
    "N_LAYERS = 6\n",
    "N_HEAD = 6\n",
    "N_EMBD = 384"
   ]
  },
  {
   "cell_type": "markdown",
   "metadata": {},
   "source": [
    "## Test one batch overfitting"
   ]
  },
  {
   "cell_type": "code",
   "execution_count": 5,
   "metadata": {},
   "outputs": [],
   "source": [
    "tokenizer = CharTokenizer()"
   ]
  },
  {
   "cell_type": "code",
   "execution_count": 6,
   "metadata": {},
   "outputs": [
    {
     "data": {
      "text/plain": [
       "([17, 14, 21, 21, 24, 94, 32, 24, 27, 21, 13], 'len:', 11, 'hello world')"
      ]
     },
     "execution_count": 6,
     "metadata": {},
     "output_type": "execute_result"
    }
   ],
   "source": [
    "text = \"hello world\"\n",
    "tokens = tokenizer.encode(text)\n",
    "tokens, \"len:\", len(tokens), tokenizer.decode(tokens)"
   ]
  },
  {
   "cell_type": "code",
   "execution_count": 7,
   "metadata": {},
   "outputs": [
    {
     "data": {
      "text/plain": [
       "torch.Size([1, 11])"
      ]
     },
     "execution_count": 7,
     "metadata": {},
     "output_type": "execute_result"
    }
   ],
   "source": [
    "# convert to tensor\n",
    "tokens = torch.tensor(tokens).unsqueeze(0).to(DEVICE)\n",
    "tokens.shape"
   ]
  },
  {
   "cell_type": "markdown",
   "metadata": {},
   "source": [
    "### Try overfitting on one batch"
   ]
  },
  {
   "cell_type": "code",
   "execution_count": 8,
   "metadata": {},
   "outputs": [],
   "source": [
    "# net = NanoGPT(\n",
    "#     context_len=SEQ_LEN,\n",
    "#     n_embd=N_EMBD,\n",
    "#     n_head=N_HEAD,\n",
    "#     n_layers=N_LAYERS,\n",
    "#     vocab_size=tokenizer.vocab_size,\n",
    "# ).to(DEVICE)"
   ]
  },
  {
   "cell_type": "code",
   "execution_count": 9,
   "metadata": {},
   "outputs": [],
   "source": [
    "# # simplest train loop\n",
    "# criterion = nn.CrossEntropyLoss()\n",
    "# optimizer = torch.optim.Adam(net.parameters(), lr=0.001)\n",
    "\n",
    "# # create target by shifting tokens by 1 and adding a padding token at the end\n",
    "# target = torch.cat([tokens[0, 1:], torch.tensor([65]).to(DEVICE)]).unsqueeze(0)\n",
    "# test_text = \"hel\"\n",
    "# test_tokens = tokenizer.encode(test_text)\n",
    "# test_tokens = torch.tensor(test_tokens).unsqueeze(0).to(DEVICE)\n",
    "\n",
    "# losses = []\n",
    "\n",
    "# for i in range(10000):\n",
    "#     optimizer.zero_grad()\n",
    "#     y = net(tokens)\n",
    "#     # y shape: (batch_size, seq_len, vocab_size)\n",
    "#     loss = criterion(y.view(-1, y.size(-1)), target.view(-1))\n",
    "#     loss.backward()\n",
    "#     optimizer.step()\n",
    "#     losses.append(loss.item())\n",
    "\n",
    "#     if i % 100 == 0:\n",
    "#         print(f\"[{i}] loss: {loss.item():.5f}  \", test_text + \" -> \" + tokenizer.decode(net.generate(test_tokens, max_new_tokens=10).squeeze().tolist()))"
   ]
  },
  {
   "cell_type": "code",
   "execution_count": 10,
   "metadata": {},
   "outputs": [],
   "source": [
    "# import matplotlib.pyplot as plt\n",
    "\n",
    "# %matplotlib inline\n",
    "\n",
    "# plt.plot(losses)\n",
    "# plt.xlabel(\"iteration\")\n",
    "# plt.ylabel(\"loss\")"
   ]
  },
  {
   "cell_type": "code",
   "execution_count": 11,
   "metadata": {},
   "outputs": [],
   "source": [
    "# test_prompt = \"hello w\"\n",
    "# tokens = tokenizer.encode(test_prompt)\n",
    "# tokens = torch.tensor(tokens).unsqueeze(0).to(DEVICE)\n",
    "# print(tokens.shape)\n",
    "\n",
    "# net.eval()\n",
    "# generated_tokens = net.generate(tokens, max_new_tokens=10, temperature=1.0, top_k=1)\n",
    "# print(generated_tokens.shape)\n",
    "\n",
    "# tokenizer.decode(generated_tokens.squeeze(0).cpu().tolist())"
   ]
  },
  {
   "cell_type": "markdown",
   "metadata": {},
   "source": [
    "## Dataset"
   ]
  },
  {
   "cell_type": "code",
   "execution_count": 12,
   "metadata": {},
   "outputs": [
    {
     "name": "stdout",
     "output_type": "stream",
     "text": [
      "train + val: 468 sequences\n",
      "test: 10000 examples\n"
     ]
    }
   ],
   "source": [
    "train_dataset = DATA_DIR / \"add_3digit_bal\" / \"add_3digit_10k_bal.txt\"\n",
    "test_dataset = DATA_DIR / \"add_3digit_bal\" / \"add_3digit_10k_test.txt\"\n",
    "\n",
    "# 10k balanced dataset\n",
    "train_val_ds = ArithmeticDataset(\n",
    "    train_dataset, tokenizer=tokenizer, seq_len=SEQ_LEN\n",
    ")\n",
    "\n",
    "# test dataset\n",
    "test_ds = ArithmeticEvalDataset(test_dataset, tokenizer=tokenizer, seq_len=SEQ_LEN)\n",
    "\n",
    "print(\"train + val:\", len(train_val_ds), \"sequences\")\n",
    "print(\"test:\", len(test_ds), \"examples\")\n",
    "\n",
    "ldm = LightningArithmeticDataModule(\n",
    "    train_val_ds, test_ds, BATCH_SIZE, val_ratio=0.2\n",
    ")\n",
    "del train_val_ds"
   ]
  },
  {
   "cell_type": "code",
   "execution_count": 13,
   "metadata": {},
   "outputs": [],
   "source": [
    "for batch in ldm.test_dataloader():\n",
    "    x, y = batch[0]\n",
    "    break"
   ]
  },
  {
   "cell_type": "markdown",
   "metadata": {},
   "source": [
    "## Lightning module wrapper for model"
   ]
  },
  {
   "cell_type": "code",
   "execution_count": 14,
   "metadata": {},
   "outputs": [],
   "source": [
    "lmodel = LightningNanoGPT(\n",
    "    context_len=SEQ_LEN,\n",
    "    n_embd=N_EMBD,\n",
    "    n_head=N_HEAD,\n",
    "    n_layers=N_LAYERS,\n",
    "    vocab_size=tokenizer.vocab_size,\n",
    "    dropout=0.2,\n",
    "    lr=0.001,\n",
    "    betas=(0.9, 0.99),\n",
    "    weight_decay=0.1,\n",
    "    warmup_iters=100,\n",
    ")"
   ]
  },
  {
   "cell_type": "code",
   "execution_count": 15,
   "metadata": {},
   "outputs": [
    {
     "data": {
      "text/plain": [
       "(tensor([96,  6,  5,  4, 72,  1,  1,  4, 80]), [80, 80, 80, 80, 80])"
      ]
     },
     "execution_count": 15,
     "metadata": {},
     "output_type": "execute_result"
    }
   ],
   "source": [
    "x, lmodel.generate(x.unsqueeze(0), max_new_tokens=5).squeeze().tolist()"
   ]
  },
  {
   "cell_type": "code",
   "execution_count": null,
   "metadata": {},
   "outputs": [
    {
     "name": "stderr",
     "output_type": "stream",
     "text": [
      "GPU available: True (mps), used: True\n",
      "TPU available: False, using: 0 TPU cores\n",
      "IPU available: False, using: 0 IPUs\n",
      "HPU available: False, using: 0 HPUs\n"
     ]
    }
   ],
   "source": [
    "run_name = \"nanogpt_add_3digit_10k_bal_with_lr_sched\"\n",
    "run_dir = CHECKPOINTS_DIR / run_name\n",
    "run_dir.mkdir(exist_ok=True, parents=True)\n",
    "checkpoint_callback = L.pytorch.callbacks.ModelCheckpoint(monitor=\"val_loss\", save_top_k=1, mode=\"min\", dirpath=run_dir, filename=\"{step}-{train_loss:.4f}-{val_loss:.4f}\")\n",
    "trainer = L.Trainer(\n",
    "    logger=L.pytorch.loggers.WandbLogger(project=\"msc-thesis-pilot\", name=run_name, save_dir=ROOT_DIR, log_model=True),\n",
    "    callbacks=[checkpoint_callback],\n",
    "    max_steps=1000,\n",
    "    val_check_interval=10,\n",
    "    log_every_n_steps=1,\n",
    "    gradient_clip_val=1.0,\n",
    ")"
   ]
  },
  {
   "cell_type": "code",
   "execution_count": null,
   "metadata": {},
   "outputs": [],
   "source": [
    "# trainer.fit(lmodel, ldm)"
   ]
  },
  {
   "cell_type": "markdown",
   "metadata": {},
   "source": [
    "## Testing"
   ]
  },
  {
   "cell_type": "code",
   "execution_count": null,
   "metadata": {},
   "outputs": [],
   "source": []
  }
 ],
 "metadata": {
  "kernelspec": {
   "display_name": "msc-thesis-P7I560r2-py3.12",
   "language": "python",
   "name": "python3"
  },
  "language_info": {
   "codemirror_mode": {
    "name": "ipython",
    "version": 3
   },
   "file_extension": ".py",
   "mimetype": "text/x-python",
   "name": "python",
   "nbconvert_exporter": "python",
   "pygments_lexer": "ipython3",
   "version": "3.12.0"
  }
 },
 "nbformat": 4,
 "nbformat_minor": 2
}
