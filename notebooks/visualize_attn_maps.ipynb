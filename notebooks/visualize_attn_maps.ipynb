{
 "cells": [
  {
   "cell_type": "markdown",
   "metadata": {},
   "source": [
    "# Attention map visualization"
   ]
  },
  {
   "cell_type": "code",
   "execution_count": 6,
   "metadata": {},
   "outputs": [],
   "source": [
    "import re\n",
    "import random\n",
    "\n",
    "import torch\n",
    "from pathlib import Path\n",
    "import matplotlib.pyplot as plt\n",
    "\n",
    "from arithmetic_lm.model import TransformerDecoder, load_model, find_latest_ckpt\n",
    "from arithmetic_lm.tokenizer import CharTokenizer\n",
    "from arithmetic_lm.interp.attn_maps import plot_head, plot_module\n",
    "from arithmetic_lm.interp.hooks import (\n",
    "    get_attention_map,\n",
    "    generate_hooked,\n",
    "    set_attn_kwargs_prehook,\n",
    ")\n",
    "from arithmetic_lm.constants import PLOTS_DIR, CHECKPOINTS_DIR\n",
    "\n",
    "import warnings\n",
    "\n",
    "warnings.filterwarnings(\"ignore\")\n",
    "\n",
    "plt.style.use(\"../figure.mplstyle\")"
   ]
  },
  {
   "cell_type": "code",
   "execution_count": 2,
   "metadata": {},
   "outputs": [],
   "source": [
    "tokenizer = CharTokenizer()"
   ]
  },
  {
   "cell_type": "markdown",
   "metadata": {},
   "source": [
    "## Select models"
   ]
  },
  {
   "cell_type": "code",
   "execution_count": 17,
   "metadata": {},
   "outputs": [],
   "source": [
    "ckpts = {\n",
    "    # === generalize-to-longer ===\n",
    "    # \"abs_pe_shift\": \"../checkpoints/addition-generalize-to-longer/trans_dec_6layers_768embd_4head_10abspeshift/step750000-train_loss1.4077-val_loss1.4930.ckpt\",\n",
    "    # \"nope\": \"../checkpoints/addition-generalize-to-longer/trans_dec_6layers_768embd_4head_nope/step284000-train_loss1.4530-val_loss1.8758.ckpt\",\n",
    "    # \"pre_matching\": \"../checkpoints/addition-generalize-to-longer/trans_dec_6layers_768embd_4head_pre_matching_v1/step400000-train_loss1.4351-val_loss1.4716.ckpt\",\n",
    "    # \"rope\": \"../checkpoints/addition-generalize-to-longer/trans_dec_6layers_768embd_4head_rotary/step116000-train_loss1.4557-val_loss2.7940.ckpt\",\n",
    "    # \"reversed\": \"../checkpoints/addition-generalize-to-longer/trans_dec_6layers_768embd_4head_abs_ansrev\",\n",
    "    # \"normal\": \"../checkpoints/addition-generalize-to-longer/trans_dec_6layers_768embd_4head\",\n",
    "    # \"rand_spaces_0.3\": \"../checkpoints/addition-generalize-to-longer/trans_dec_6layers_768embd_4head_rand_spaces_0.5\",\n",
    "    # \"rand_spaces_0.3\": \"../checkpoints/addition-generalize-to-longer/trans_dec_6layers_768embd_4head_rand_spaces_0.3\",\n",
    "    # \"randsp0.5_rev_ansloss\": \"../checkpoints/addition-generalize-to-longer/trans_dec_6layers_768embd_4head_randsp0.5_rev_ansloss/model.ckpt\",\n",
    "    # === strlen_v1 ===\n",
    "    # \"string_length\": \"../checkpoints/strlen_v1/trans_dec_1layers_192embd_2head\",\n",
    "    # === exp 29 ===\n",
    "    \"Absolute PE\": \"../checkpoints/experiment-29/tdec_abs_randsp0_revansFalse_s2/step76000-train_loss0.0568-val_loss0.0057.ckpt\",\n",
    "    \"Absolute PE + Random Spaces\": \"../checkpoints/experiment-29/tdec_abs_randsp0.5_revansFalse_s1/step100000-train_loss0.0862-val_loss0.0147.ckpt\",\n",
    "    \"Abacus PE\": \"../checkpoints/experiment-29/tdec_abacus_randsp0_revansTrue_s1/step40000-train_loss0.0080-val_loss0.0000.ckpt\",\n",
    "}\n",
    "\n",
    "# ckpts = {k: find_latest_ckpt(v) for k, v in ckpts.items()}"
   ]
  },
  {
   "cell_type": "code",
   "execution_count": 34,
   "metadata": {},
   "outputs": [
    {
     "name": "stdout",
     "output_type": "stream",
     "text": [
      "Prompt: $12345+45678= (5+5=6) True Ans: 58023$\n",
      "['layers[0].self_attn', 'layers[1].self_attn', 'layers[2].self_attn']\n",
      "pred_answer: 58023$\n",
      "layers[0].self_attn torch.Size([1, 4, 18, 18])\n",
      "layers[1].self_attn torch.Size([1, 4, 18, 18])\n",
      "layers[2].self_attn torch.Size([1, 4, 18, 18])\n",
      "Prompt: $12345+45678= (5+5=7) True Ans: 58023$$\n",
      "['layers[0].self_attn', 'layers[1].self_attn', 'layers[2].self_attn']\n",
      "pred_answer: 58023$\n",
      "layers[0].self_attn torch.Size([1, 4, 18, 18])\n",
      "layers[1].self_attn torch.Size([1, 4, 18, 18])\n",
      "layers[2].self_attn torch.Size([1, 4, 18, 18])\n",
      "Prompt: $54321+87654= (5+5=8) True Ans: $$32085$\n",
      "['layers[0].self_attn', 'layers[1].self_attn', 'layers[2].self_attn']\n",
      "pred_answer: 32085$\n",
      "layers[0].self_attn torch.Size([1, 4, 18, 18])\n",
      "layers[1].self_attn torch.Size([1, 4, 18, 18])\n",
      "layers[2].self_attn torch.Size([1, 4, 18, 18])\n"
     ]
    },
    {
     "data": {
      "image/png": "[encoded data removed]",
      "text/plain": [
       "<Figure size 580x150 with 3 Axes>"
      ]
     },
     "metadata": {},
     "output_type": "display_data"
    },
    {
     "data": {
      "image/png": "[encoded data removed]",
      "text/plain": [
       "<Figure size 580x150 with 3 Axes>"
      ]
     },
     "metadata": {},
     "output_type": "display_data"
    },
    {
     "data": {
      "image/png": "[encoded data removed]",
      "text/plain": [
       "<Figure size 580x150 with 3 Axes>"
      ]
     },
     "metadata": {},
     "output_type": "display_data"
    }
   ],
   "source": [
    "# general tasks\n",
    "\n",
    "# prompt_str = \"$1+2=\"\n",
    "# true_ans = (\n",
    "#     str(eval(prompt_str.replace(\"=\", \"\").replace(\"$\", \"\").replace(\" \", \"\"))) + \"$\"\n",
    "# )\n",
    "\n",
    "a = 12345\n",
    "b = 45678\n",
    "true_ans = str(a + b)\n",
    "a = str(a)\n",
    "b = str(b)\n",
    "\n",
    "stop_token_id = tokenizer.encode(\"$\")[0]\n",
    "\n",
    "\n",
    "for model_name, ckpt_path in ckpts.items():\n",
    "    model, hparams = load_model(ckpt_path)\n",
    "    reverse_ops = hparams[\"extra_hparams\"][\"data_format\"][\"reverse_ops\"]\n",
    "    reverse_ans = hparams[\"extra_hparams\"][\"data_format\"][\"reverse_ans\"]\n",
    "    filler_tokens_prompt = hparams[\"extra_hparams\"][\"data_format\"][\n",
    "        \"filler_tokens_prompt\"\n",
    "    ]\n",
    "\n",
    "    if reverse_ops:\n",
    "        a = a[::-1]\n",
    "        b = b[::-1]\n",
    "    if reverse_ans:\n",
    "        true_ans = true_ans[::-1]\n",
    "\n",
    "    prompt_str = f\"${a}+{b}=\"\n",
    "    true_ans = true_ans + \"$\"\n",
    "    print(\n",
    "        f\"Prompt: {prompt_str} ({len(a)}+{len(b)}={len(true_ans)}) True Ans: {true_ans}\"\n",
    "    )\n",
    "\n",
    "    prompt = tokenizer.encode(prompt_str, return_tensors=True)\n",
    "\n",
    "    module_names = [mn for mn, _ in model.named_modules() if mn.endswith(\"self_attn\")]\n",
    "    # replace index to get correct syntax\n",
    "    module_names = [re.sub(r\"\\.(\\d+)\\.\", r\"[\\1].\", mn) for mn in module_names]\n",
    "    print(module_names)\n",
    "\n",
    "    attn_maps = {}\n",
    "\n",
    "    # generate answer\n",
    "    pred_tensor = generate_hooked(\n",
    "        model,\n",
    "        prompt=prompt,\n",
    "        stop_token=stop_token_id,\n",
    "        hook_config={\n",
    "            mn: {\n",
    "                \"hook\": get_attention_map(mn, attn_maps),\n",
    "                \"pre_hook\": set_attn_kwargs_prehook,\n",
    "            }\n",
    "            for mn in module_names\n",
    "        },\n",
    "    )\n",
    "\n",
    "    pred_answer_str = tokenizer.decode(pred_tensor[0].tolist())\n",
    "    print(\"pred_answer:\", pred_answer_str)\n",
    "\n",
    "    for mn, matts in attn_maps.items():\n",
    "        print(mn, matts.shape)\n",
    "\n",
    "    # tokens for easier visualization\n",
    "    ticks = list(prompt_str + pred_answer_str)\n",
    "\n",
    "    # for each module, in a subfigure plot heads as subplots\n",
    "    fig, axs = plt.subplots(1, 3, figsize=(5.8, 1.5))\n",
    "    fig.suptitle(f\"{model_name}\", y=1.15)\n",
    "\n",
    "    # choose cmaps for combined attn map\n",
    "    cmaps = [\"Reds\", \"Blues\", \"Purples\", \"Greens\", \"Oranges\"]\n",
    "\n",
    "    # take max over heads for each layer\n",
    "    for i, (mn, matts) in enumerate(attn_maps.items()):\n",
    "        attn_maps[mn] = matts.amax(dim=1).squeeze()\n",
    "\n",
    "    # plot layers\n",
    "    for i, (mn, matts) in enumerate(attn_maps.items()):\n",
    "        axs[i].imshow(matts, cmap=cmaps[i], aspect=\"auto\")\n",
    "\n",
    "        # set axs name\n",
    "        axs[i].set_title(f\"Layer {i+1}\")\n",
    "\n",
    "        # only keep yticks for first plot\n",
    "        if i != 0:\n",
    "            axs[i].set_yticks([])\n",
    "\n",
    "    # rotate yticks\n",
    "    for ax in axs:\n",
    "        ax.tick_params(axis=\"y\", rotation=90)\n",
    "\n",
    "    # save\n",
    "    plt.savefig(\n",
    "        \"../latex/fig/attn_map_\"\n",
    "        + model_name.lower()\n",
    "        .replace(\" \", \"_\")\n",
    "        .replace(\"absolute\", \"abs\")\n",
    "        .replace(\"+_\", \"\")\n",
    "        + \".png\",\n",
    "        bbox_inches=\"tight\",\n",
    "        dpi=300,\n",
    "    )"
   ]
  },
  {
   "cell_type": "code",
   "execution_count": null,
   "metadata": {},
   "outputs": [],
   "source": []
  }
 ],
 "metadata": {
  "kernelspec": {
   "display_name": "msc-thesis-P7I560r2-py3.12",
   "language": "python",
   "name": "python3"
  },
  "language_info": {
   "codemirror_mode": {
    "name": "ipython",
    "version": 3
   },
   "file_extension": ".py",
   "mimetype": "text/x-python",
   "name": "python",
   "nbconvert_exporter": "python",
   "pygments_lexer": "ipython3",
   "version": "3.12.0"
  }
 },
 "nbformat": 4,
 "nbformat_minor": 2
}
