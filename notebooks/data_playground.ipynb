{
 "cells": [
  {
   "cell_type": "markdown",
   "metadata": {},
   "source": [
    "# Testing data pipeline\n",
    "\n",
    "Get a dataloader based on given experiment config"
   ]
  },
  {
   "cell_type": "code",
   "execution_count": 1,
   "metadata": {},
   "outputs": [],
   "source": [
    "from pathlib import Path\n",
    "\n",
    "from hydra import initialize_config_dir, compose\n",
    "from omegaconf import OmegaConf\n",
    "import torch\n",
    "from torch import nn\n",
    "import numpy as np\n",
    "import matplotlib.pyplot as plt\n",
    "\n",
    "from arithmetic_lm.dataset import DATASET_CLASSES\n",
    "from arithmetic_lm.tokenizer import CharTokenizer"
   ]
  },
  {
   "cell_type": "markdown",
   "metadata": {},
   "source": [
    "## Get config"
   ]
  },
  {
   "cell_type": "code",
   "execution_count": 2,
   "metadata": {},
   "outputs": [
    {
     "name": "stdout",
     "output_type": "stream",
     "text": [
      "['training.only_answer_loss=true', 'data.format.operand_random_spaces_amount=0.3', '+experiment=15/exp15_trans_dec.yaml', 'data=add_generalize_to_longer_19']\n",
      "data:\n",
      "  train_ds_class: ArithmeticLMSequenceDataset\n",
      "  format:\n",
      "    pad: $\n",
      "    pad_ops_zero: null\n",
      "    pad_ans_zero: null\n",
      "    reverse_ops: false\n",
      "    reverse_ans: false\n",
      "    encdec: false\n",
      "    filler_tokens_prompt: 0\n",
      "    filler_tokens_ans: 0\n",
      "    operand_random_spaces_amount: 0.3\n",
      "    answer_random_spaces_amount: 0\n",
      "    scratchpad: false\n",
      "  train: data/addition/generalize_to_longer_19/train_add_1-19_except18_1M.txt\n",
      "  test:\n",
      "    in_dist: data/addition/generalize_to_longer_19/test_add_in_distribution_2000.txt\n",
      "    ood_18digit: data/addition/generalize_to_longer_19/test_add_ood_18digit_100.txt\n",
      "    ood_20digit: data/addition/generalize_to_longer_19/test_add_ood_20digit_100.txt\n",
      "    ood_21digit: data/addition/generalize_to_longer_19/test_add_ood_21digit_100.txt\n",
      "    ood_22digit: data/addition/generalize_to_longer_19/test_add_ood_22digit_100.txt\n",
      "    ood_23digit: data/addition/generalize_to_longer_19/test_add_ood_23digit_100.txt\n",
      "model:\n",
      "  name: TransformerDecoder\n",
      "  args:\n",
      "    context_len: 256\n",
      "    n_embd: 768\n",
      "    n_head: 4\n",
      "    n_layers: 6\n",
      "    dropout: 0.1\n",
      "    pos_enc: abs\n",
      "    pos_enc_max_shift: 0\n",
      "    emb_type: learned\n",
      "tokenizer:\n",
      "  name: CharTokenizer\n",
      "  args: {}\n",
      "sampling:\n",
      "  temp: 1.0\n",
      "  top_k: 1\n",
      "training:\n",
      "  batch_size: 256\n",
      "  lr: 0.0003\n",
      "  weight_decay: 0.1\n",
      "  warmup_iters: 100\n",
      "  max_iters: 300000\n",
      "  num_dl_workers: 0\n",
      "  val_ratio: 0.1\n",
      "  val_interval: 2000\n",
      "  limit_val_batches: null\n",
      "  limit_test_examples: 1000\n",
      "  reload_dataloaders_every_n_epochs: 0\n",
      "  only_answer_loss: true\n",
      "  devices:\n",
      "  - 0\n",
      "  accumulate_grad_batches: 1\n",
      "  resume_ckpt_path: null\n",
      "  ckpt_weights_only: false\n",
      "  eval_func: numeric\n",
      "  pause_token: .\n",
      "wandb:\n",
      "  enabled: true\n",
      "  entity: compositional-generalization-ut\n",
      "  project: addition-generalize-to-longer\n",
      "  run_name: trans_dec_${model.args.n_layers}layers_${model.args.n_embd}embd_${model.args.n_head}head${.suffix}\n",
      "  grad_log_interval: 100\n",
      "  suffix: ''\n",
      "\n"
     ]
    }
   ],
   "source": [
    "EXPERIMENT = \"15/exp15_trans_dec.yaml\"\n",
    "DATASET = \"add_generalize_to_longer_19\"\n",
    "abs_config_dir = Path(\"..\").resolve() / \"arithmetic_lm/conf\"\n",
    "\n",
    "# add overrides if needed\n",
    "overrides = [\n",
    "    \"training.only_answer_loss=true\",\n",
    "    \"data.format.operand_random_spaces_amount=0.3\",\n",
    "]\n",
    "\n",
    "if EXPERIMENT:\n",
    "    overrides.append(f\"+experiment={EXPERIMENT}\")\n",
    "if DATASET:\n",
    "    overrides.append(f\"data={DATASET}\")\n",
    "print(overrides)\n",
    "\n",
    "with initialize_config_dir(version_base=None, config_dir=str(abs_config_dir)):\n",
    "    cfg = compose(config_name=\"train.yaml\", overrides=overrides)\n",
    "    print(OmegaConf.to_yaml(cfg))"
   ]
  },
  {
   "cell_type": "markdown",
   "metadata": {},
   "source": [
    "## Initialize dataset and dataloader"
   ]
  },
  {
   "cell_type": "code",
   "execution_count": 3,
   "metadata": {},
   "outputs": [
    {
     "name": "stdout",
     "output_type": "stream",
     "text": [
      "<arithmetic_lm.dataset.arithmetic_dataset.ArithmeticLMSequenceDataset object at 0x130d26e40> 896200 (tensor([65,  0, 72,  0, 80,  0]), tensor([ 0, 72,  0, 80,  0, 65]))\n"
     ]
    }
   ],
   "source": [
    "tokenizer = CharTokenizer()\n",
    "\n",
    "# dataset\n",
    "ds_kwargs = {\n",
    "    \"tokenizer\": tokenizer,\n",
    "    \"seq_len\": cfg.model.args.context_len,\n",
    "    \"pad\": cfg.data.format.pad,\n",
    "    \"pad_ops_zero\": cfg.data.format.pad_ops_zero,\n",
    "    \"pad_ans_zero\": cfg.data.format.pad_ans_zero,\n",
    "    \"reverse_ops\": cfg.data.format.reverse_ops,\n",
    "    \"reverse_ans\": cfg.data.format.reverse_ans,\n",
    "    \"filler_tokens_prompt\": cfg.data.format.filler_tokens_prompt,\n",
    "    \"filler_tokens_ans\": cfg.data.format.filler_tokens_ans,\n",
    "    \"equal_in_prompt\": not cfg.data.format.encdec,\n",
    "    \"scratchpad\": cfg.data.format.get(\"scratchpad\", False),\n",
    "    \"operand_random_spaces_amount\": cfg.data.format.get(\n",
    "        \"operand_random_spaces_amount\", 0\n",
    "    ),\n",
    "}\n",
    "ds_class = DATASET_CLASSES[cfg.data.train_ds_class]\n",
    "ds = ds_class(Path(\"..\").resolve() / cfg.data.train, **ds_kwargs)\n",
    "print(ds, len(ds), ds[0])"
   ]
  },
  {
   "cell_type": "code",
   "execution_count": 4,
   "metadata": {},
   "outputs": [],
   "source": [
    "# dataloader\n",
    "dl = torch.utils.data.DataLoader(\n",
    "    ds, batch_size=4, shuffle=True, num_workers=0, collate_fn=ds.collate_fn\n",
    ")"
   ]
  },
  {
   "cell_type": "markdown",
   "metadata": {},
   "source": [
    "## Get a batch of data and do whatever"
   ]
  },
  {
   "cell_type": "code",
   "execution_count": 18,
   "metadata": {},
   "outputs": [
    {
     "name": "stdout",
     "output_type": "stream",
     "text": [
      "torch.Size([4, 62])\n",
      "'6536776816 8+3733  8784 039=102706552207$\\x0c\\x0c\\x0c\\x0c\\x0c\\x0c\\x0c\\x0c\\x0c\\x0c\\x0c\\x0c\\x0c\\x0c\\x0c\\x0c\\x0c\\x0c\\x0c\\x0c\\x0c'\n",
      "'1  38824+301959=440783$\\x0c\\x0c\\x0c\\x0c\\x0c\\x0c\\x0c\\x0c\\x0c\\x0c\\x0c\\x0c\\x0c\\x0c\\x0c\\x0c\\x0c\\x0c\\x0c\\x0c\\x0c\\x0c\\x0c\\x0c\\x0c\\x0c\\x0c\\x0c\\x0c\\x0c\\x0c\\x0c\\x0c\\x0c\\x0c\\x0c\\x0c\\x0c\\x0c'\n",
      "'2425+2887=5312$\\x0c\\x0c\\x0c\\x0c\\x0c\\x0c\\x0c\\x0c\\x0c\\x0c\\x0c\\x0c\\x0c\\x0c\\x0c\\x0c\\x0c\\x0c\\x0c\\x0c\\x0c\\x0c\\x0c\\x0c\\x0c\\x0c\\x0c\\x0c\\x0c\\x0c\\x0c\\x0c\\x0c\\x0c\\x0c\\x0c\\x0c\\x0c\\x0c\\x0c\\x0c\\x0c\\x0c\\x0c\\x0c\\x0c\\x0c'\n",
      "'944 60 9009978 41453+516100  87449437 93 2=146070988447279385$'\n",
      "AFTER\n",
      "torch.Size([4, 62])\n",
      "'...........................=102706552207$.....................'\n",
      "'...............=440783$.......................................'\n",
      "'.........=5312$...............................................'\n",
      "'..........................................=146070988447279385$'\n"
     ]
    }
   ],
   "source": [
    "from arithmetic_lm.model.utils import answer_mask\n",
    "\n",
    "for i, batch in enumerate(dl):\n",
    "    tgt = batch[1]\n",
    "    print(tgt.shape)\n",
    "    # decode and print tgt before\n",
    "    for t in tgt:\n",
    "        print(repr(tokenizer.decode(t)))\n",
    "\n",
    "    answer_masked_tgt = answer_mask(\n",
    "        tgt,\n",
    "        pad_token_id=tokenizer.pad_token_id,\n",
    "        equal_token_id=tokenizer.encode(\"=\")[0],\n",
    "    )\n",
    "\n",
    "    print(\"AFTER\")\n",
    "    print(answer_masked_tgt.shape)\n",
    "\n",
    "    # decode and print tgt after\n",
    "    for t in answer_masked_tgt:\n",
    "        print(repr(tokenizer.decode(t).replace(\"\\x0c\", \".\")))\n",
    "\n",
    "    break"
   ]
  },
  {
   "cell_type": "code",
   "execution_count": 42,
   "metadata": {},
   "outputs": [],
   "source": [
    "def get_linear_lsd_weight(coeff: float, tgt: torch.Tensor, pad_token_id: int):\n",
    "    \"\"\"\n",
    "    Get a linear weight to the sequence positions in the loss tensor to\n",
    "    encourage predicting first digits first. Ignore padding tokens.\n",
    "    \"\"\"\n",
    "\n",
    "    # get mask for non-padding tokens\n",
    "    mask = tgt != pad_token_id\n",
    "\n",
    "    # weight = 1 + coeff * (1 - position / max_position)\n",
    "    # position = 0 for first token\n",
    "    # position = max_position for last token\n",
    "    max_position = mask.sum(1, keepdim=True)\n",
    "    position = torch.arange(tgt.size(1), device=tgt.device).unsqueeze(0)\n",
    "    weight = 1 + coeff * (1 - position.float() / max_position.float())\n",
    "\n",
    "    return weight"
   ]
  },
  {
   "cell_type": "code",
   "execution_count": 48,
   "metadata": {},
   "outputs": [
    {
     "name": "stdout",
     "output_type": "stream",
     "text": [
      "torch.Size([4, 62])\n"
     ]
    },
    {
     "data": {
      "image/png": "[encoded data removed]",
      "text/plain": [
       "<Figure size 640x480 with 2 Axes>"
      ]
     },
     "metadata": {},
     "output_type": "display_data"
    },
    {
     "name": "stdout",
     "output_type": "stream",
     "text": [
      "torch.Size([4, 62])\n"
     ]
    },
    {
     "data": {
      "image/png": "[encoded data removed]",
      "text/plain": [
       "<Figure size 640x480 with 2 Axes>"
      ]
     },
     "metadata": {},
     "output_type": "display_data"
    },
    {
     "ename": "RuntimeError",
     "evalue": "grad can be implicitly created only for scalar outputs",
     "output_type": "error",
     "traceback": [
      "\u001b[0;31m---------------------------------------------------------------------------\u001b[0m",
      "\u001b[0;31mRuntimeError\u001b[0m                              Traceback (most recent call last)",
      "Cell \u001b[0;32mIn[48], line 26\u001b[0m\n\u001b[1;32m     23\u001b[0m plt\u001b[38;5;241m.\u001b[39mcolorbar()\n\u001b[1;32m     24\u001b[0m plt\u001b[38;5;241m.\u001b[39mshow()\n\u001b[0;32m---> 26\u001b[0m \u001b[43mloss\u001b[49m\u001b[38;5;241;43m.\u001b[39;49m\u001b[43mbackward\u001b[49m\u001b[43m(\u001b[49m\u001b[43m)\u001b[49m\n\u001b[1;32m     28\u001b[0m \u001b[38;5;66;03m# check that pad tokens have no gradient\u001b[39;00m\n\u001b[1;32m     29\u001b[0m grads \u001b[38;5;241m=\u001b[39m logits\u001b[38;5;241m.\u001b[39mgrad\u001b[38;5;241m.\u001b[39msum(dim\u001b[38;5;241m=\u001b[39m\u001b[38;5;241m-\u001b[39m\u001b[38;5;241m1\u001b[39m)\n",
      "File \u001b[0;32m~/Library/Caches/pypoetry/virtualenvs/msc-thesis-P7I560r2-py3.12/lib/python3.12/site-packages/torch/_tensor.py:522\u001b[0m, in \u001b[0;36mTensor.backward\u001b[0;34m(self, gradient, retain_graph, create_graph, inputs)\u001b[0m\n\u001b[1;32m    512\u001b[0m \u001b[38;5;28;01mif\u001b[39;00m has_torch_function_unary(\u001b[38;5;28mself\u001b[39m):\n\u001b[1;32m    513\u001b[0m     \u001b[38;5;28;01mreturn\u001b[39;00m handle_torch_function(\n\u001b[1;32m    514\u001b[0m         Tensor\u001b[38;5;241m.\u001b[39mbackward,\n\u001b[1;32m    515\u001b[0m         (\u001b[38;5;28mself\u001b[39m,),\n\u001b[0;32m   (...)\u001b[0m\n\u001b[1;32m    520\u001b[0m         inputs\u001b[38;5;241m=\u001b[39minputs,\n\u001b[1;32m    521\u001b[0m     )\n\u001b[0;32m--> 522\u001b[0m \u001b[43mtorch\u001b[49m\u001b[38;5;241;43m.\u001b[39;49m\u001b[43mautograd\u001b[49m\u001b[38;5;241;43m.\u001b[39;49m\u001b[43mbackward\u001b[49m\u001b[43m(\u001b[49m\n\u001b[1;32m    523\u001b[0m \u001b[43m    \u001b[49m\u001b[38;5;28;43mself\u001b[39;49m\u001b[43m,\u001b[49m\u001b[43m \u001b[49m\u001b[43mgradient\u001b[49m\u001b[43m,\u001b[49m\u001b[43m \u001b[49m\u001b[43mretain_graph\u001b[49m\u001b[43m,\u001b[49m\u001b[43m \u001b[49m\u001b[43mcreate_graph\u001b[49m\u001b[43m,\u001b[49m\u001b[43m \u001b[49m\u001b[43minputs\u001b[49m\u001b[38;5;241;43m=\u001b[39;49m\u001b[43minputs\u001b[49m\n\u001b[1;32m    524\u001b[0m \u001b[43m\u001b[49m\u001b[43m)\u001b[49m\n",
      "File \u001b[0;32m~/Library/Caches/pypoetry/virtualenvs/msc-thesis-P7I560r2-py3.12/lib/python3.12/site-packages/torch/autograd/__init__.py:259\u001b[0m, in \u001b[0;36mbackward\u001b[0;34m(tensors, grad_tensors, retain_graph, create_graph, grad_variables, inputs)\u001b[0m\n\u001b[1;32m    250\u001b[0m inputs \u001b[38;5;241m=\u001b[39m (\n\u001b[1;32m    251\u001b[0m     (inputs,)\n\u001b[1;32m    252\u001b[0m     \u001b[38;5;28;01mif\u001b[39;00m \u001b[38;5;28misinstance\u001b[39m(inputs, (torch\u001b[38;5;241m.\u001b[39mTensor, graph\u001b[38;5;241m.\u001b[39mGradientEdge))\n\u001b[0;32m   (...)\u001b[0m\n\u001b[1;32m    255\u001b[0m     \u001b[38;5;28;01melse\u001b[39;00m \u001b[38;5;28mtuple\u001b[39m()\n\u001b[1;32m    256\u001b[0m )\n\u001b[1;32m    258\u001b[0m grad_tensors_ \u001b[38;5;241m=\u001b[39m _tensor_or_tensors_to_tuple(grad_tensors, \u001b[38;5;28mlen\u001b[39m(tensors))\n\u001b[0;32m--> 259\u001b[0m grad_tensors_ \u001b[38;5;241m=\u001b[39m \u001b[43m_make_grads\u001b[49m\u001b[43m(\u001b[49m\u001b[43mtensors\u001b[49m\u001b[43m,\u001b[49m\u001b[43m \u001b[49m\u001b[43mgrad_tensors_\u001b[49m\u001b[43m,\u001b[49m\u001b[43m \u001b[49m\u001b[43mis_grads_batched\u001b[49m\u001b[38;5;241;43m=\u001b[39;49m\u001b[38;5;28;43;01mFalse\u001b[39;49;00m\u001b[43m)\u001b[49m\n\u001b[1;32m    260\u001b[0m \u001b[38;5;28;01mif\u001b[39;00m retain_graph \u001b[38;5;129;01mis\u001b[39;00m \u001b[38;5;28;01mNone\u001b[39;00m:\n\u001b[1;32m    261\u001b[0m     retain_graph \u001b[38;5;241m=\u001b[39m create_graph\n",
      "File \u001b[0;32m~/Library/Caches/pypoetry/virtualenvs/msc-thesis-P7I560r2-py3.12/lib/python3.12/site-packages/torch/autograd/__init__.py:132\u001b[0m, in \u001b[0;36m_make_grads\u001b[0;34m(outputs, grads, is_grads_batched)\u001b[0m\n\u001b[1;32m    130\u001b[0m \u001b[38;5;28;01mif\u001b[39;00m out\u001b[38;5;241m.\u001b[39mrequires_grad:\n\u001b[1;32m    131\u001b[0m     \u001b[38;5;28;01mif\u001b[39;00m out\u001b[38;5;241m.\u001b[39mnumel() \u001b[38;5;241m!=\u001b[39m \u001b[38;5;241m1\u001b[39m:\n\u001b[0;32m--> 132\u001b[0m         \u001b[38;5;28;01mraise\u001b[39;00m \u001b[38;5;167;01mRuntimeError\u001b[39;00m(\n\u001b[1;32m    133\u001b[0m             \u001b[38;5;124m\"\u001b[39m\u001b[38;5;124mgrad can be implicitly created only for scalar outputs\u001b[39m\u001b[38;5;124m\"\u001b[39m\n\u001b[1;32m    134\u001b[0m         )\n\u001b[1;32m    135\u001b[0m     \u001b[38;5;28;01mif\u001b[39;00m \u001b[38;5;129;01mnot\u001b[39;00m out\u001b[38;5;241m.\u001b[39mdtype\u001b[38;5;241m.\u001b[39mis_floating_point:\n\u001b[1;32m    136\u001b[0m         msg \u001b[38;5;241m=\u001b[39m (\n\u001b[1;32m    137\u001b[0m             \u001b[38;5;124m\"\u001b[39m\u001b[38;5;124mgrad can be implicitly created only for real scalar outputs\u001b[39m\u001b[38;5;124m\"\u001b[39m\n\u001b[1;32m    138\u001b[0m             \u001b[38;5;124mf\u001b[39m\u001b[38;5;124m\"\u001b[39m\u001b[38;5;124m but got \u001b[39m\u001b[38;5;132;01m{\u001b[39;00mout\u001b[38;5;241m.\u001b[39mdtype\u001b[38;5;132;01m}\u001b[39;00m\u001b[38;5;124m\"\u001b[39m\n\u001b[1;32m    139\u001b[0m         )\n",
      "\u001b[0;31mRuntimeError\u001b[0m: grad can be implicitly created only for scalar outputs"
     ]
    }
   ],
   "source": [
    "logits = torch.randn(4, answer_masked_tgt.size(1), 100)\n",
    "logits.requires_grad = True\n",
    "\n",
    "loss = nn.functional.cross_entropy(\n",
    "    logits.view(-1, logits.size(-1)),\n",
    "    answer_masked_tgt.view(-1),\n",
    "    ignore_index=tokenizer.pad_token_id,\n",
    "    reduction=\"none\",\n",
    ")\n",
    "loss = loss.view(logits.size(0), logits.size(1))\n",
    "print(loss.shape)\n",
    "\n",
    "plt.imshow(loss.detach().numpy())\n",
    "plt.colorbar()\n",
    "plt.show()\n",
    "\n",
    "weight = get_linear_lsd_weight(0.5, answer_masked_tgt, tokenizer.pad_token_id)\n",
    "print(weight.shape)\n",
    "\n",
    "loss = loss * weight\n",
    "\n",
    "plt.imshow(weight.detach().numpy())\n",
    "plt.colorbar()\n",
    "plt.show()\n",
    "\n",
    "loss.backward()\n",
    "\n",
    "# check that pad tokens have no gradient\n",
    "grads = logits.grad.sum(dim=-1)\n",
    "print(grads.shape)\n",
    "\n",
    "plt.imshow(grads.detach().numpy() == 0)\n",
    "plt.colorbar()\n",
    "plt.show()"
   ]
  },
  {
   "cell_type": "code",
   "execution_count": null,
   "metadata": {},
   "outputs": [],
   "source": []
  },
  {
   "cell_type": "code",
   "execution_count": null,
   "metadata": {},
   "outputs": [],
   "source": []
  }
 ],
 "metadata": {
  "kernelspec": {
   "display_name": "msc-thesis-P7I560r2-py3.12",
   "language": "python",
   "name": "python3"
  },
  "language_info": {
   "codemirror_mode": {
    "name": "ipython",
    "version": 3
   },
   "file_extension": ".py",
   "mimetype": "text/x-python",
   "name": "python",
   "nbconvert_exporter": "python",
   "pygments_lexer": "ipython3",
   "version": "3.12.0"
  }
 },
 "nbformat": 4,
 "nbformat_minor": 2
}
