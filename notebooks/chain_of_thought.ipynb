{
 "cells": [
  {
   "cell_type": "markdown",
   "metadata": {},
   "source": [
    "# Chain-of-Thought training data"
   ]
  },
  {
   "cell_type": "code",
   "execution_count": 1,
   "metadata": {},
   "outputs": [],
   "source": [
    "import random\n",
    "\n",
    "import torch\n",
    "import matplotlib.pyplot as plt\n",
    "\n",
    "from arithmetic_lm.model import TransformerDecoder, generate\n",
    "from arithmetic_lm.tokenizer import CharTokenizer\n",
    "from arithmetic_lm.formatting import format_line, split_operands_and_op\n",
    "\n",
    "import warnings\n",
    "\n",
    "warnings.filterwarnings(\"ignore\")"
   ]
  },
  {
   "cell_type": "code",
   "execution_count": 40,
   "metadata": {},
   "outputs": [],
   "source": [
    "def chain_of_thought_addition(a: str, b: str) -> str:\n",
    "    \"\"\"\n",
    "    Input: 567+7890\n",
    "    CoT: 7+0=7c0,6+9=5c1,5+8=3c1,0+7=8c0|567+7890=8457\n",
    "    \"\"\"\n",
    "    res = \"\"\n",
    "\n",
    "    length = max(len(a), len(b))\n",
    "    a = a.zfill(length)\n",
    "    b = b.zfill(length)\n",
    "\n",
    "    # start from last digit\n",
    "    for da, db in zip(reversed(a), reversed(b)):\n",
    "        da = int(da)\n",
    "        db = int(db)\n",
    "        msum = (da + db) % 10\n",
    "        carry = (da + db) // 10\n",
    "        res += f\"{da}+{db}={msum}c{carry},\"\n",
    "    res = res[:-1]  # remove last comma\n",
    "    res += f\"|{a}+{b}={int(a)+int(b)}\"\n",
    "    return res"
   ]
  },
  {
   "cell_type": "code",
   "execution_count": 41,
   "metadata": {},
   "outputs": [
    {
     "name": "stdout",
     "output_type": "stream",
     "text": [
      "567 7890 +\n",
      "CoT: 7+0=7c0,6+9=5c1,5+8=3c1,0+7=7c0|0567+7890=8457\n"
     ]
    }
   ],
   "source": [
    "example = \"567+7890=\"\n",
    "\n",
    "a, op, b = split_operands_and_op(example)\n",
    "print(a, b, op)\n",
    "\n",
    "cot = chain_of_thought_addition(a, b)\n",
    "print(\"CoT:\", cot)"
   ]
  },
  {
   "cell_type": "code",
   "execution_count": 12,
   "metadata": {},
   "outputs": [
    {
     "name": "stdout",
     "output_type": "stream",
     "text": [
      "7+0\n",
      "6+9\n",
      "5+8\n"
     ]
    }
   ],
   "source": []
  },
  {
   "cell_type": "code",
   "execution_count": null,
   "metadata": {},
   "outputs": [],
   "source": []
  }
 ],
 "metadata": {
  "kernelspec": {
   "display_name": "msc-thesis-P7I560r2-py3.12",
   "language": "python",
   "name": "python3"
  },
  "language_info": {
   "codemirror_mode": {
    "name": "ipython",
    "version": 3
   },
   "file_extension": ".py",
   "mimetype": "text/x-python",
   "name": "python",
   "nbconvert_exporter": "python",
   "pygments_lexer": "ipython3",
   "version": "3.12.0"
  }
 },
 "nbformat": 4,
 "nbformat_minor": 2
}
