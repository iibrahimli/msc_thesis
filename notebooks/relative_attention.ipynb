{
 "cells": [
  {
   "cell_type": "code",
   "execution_count": 1,
   "metadata": {},
   "outputs": [
    {
     "name": "stderr",
     "output_type": "stream",
     "text": [
      "/Users/imran/Desktop/studies/thesis/msc_thesis/arithmetic_lm/model/pos_enc/rotary_pos_encoding.py:322: SyntaxWarning: invalid escape sequence '\\_'\n",
      "  \"\"\"\n"
     ]
    }
   ],
   "source": [
    "import torch\n",
    "from torch import nn, Tensor\n",
    "import matplotlib.pyplot as plt\n",
    "\n",
    "\n",
    "from arithmetic_lm.model import RelativeMultiheadAttention"
   ]
  },
  {
   "cell_type": "code",
   "execution_count": 2,
   "metadata": {},
   "outputs": [
    {
     "name": "stdout",
     "output_type": "stream",
     "text": [
      "Output shape: torch.Size([10, 20, 64])\n",
      "Weights shape: torch.Size([10, 4, 20, 20])\n"
     ]
    }
   ],
   "source": [
    "ratt = RelativeMultiheadAttention(64, 4, dropout=0)\n",
    "\n",
    "# batch_size, seq_len, embed_dim\n",
    "x = torch.ones(10, 20, 64)\n",
    "\n",
    "output, weights = ratt(x, x, x, need_weights=True, average_attn_weights=False)\n",
    "\n",
    "print(\"Output shape:\", output.shape)\n",
    "print(\"Weights shape:\", weights.shape)\n",
    "\n",
    "# plt.imshow(weights[0, 0].detach().numpy(), interpolation=\"nearest\", aspect=\"auto\")\n",
    "# plt.colorbar()\n",
    "# plt.show()"
   ]
  },
  {
   "cell_type": "code",
   "execution_count": 4,
   "metadata": {},
   "outputs": [],
   "source": [
    "# # check if RotaryMultiheadAttention has same output as MultiheadAttention\n",
    "# import torch\n",
    "# from torch.nn import MultiheadAttention\n",
    "# from arithmetic_lm.model.pos_enc import RotaryMultiheadAttention\n",
    "\n",
    "# mha = MultiheadAttention(\n",
    "#     6,\n",
    "#     2,\n",
    "#     dropout=0.1,\n",
    "#     batch_first=True,\n",
    "# )\n",
    "# ratt = RotaryMultiheadAttention(\n",
    "#     6,\n",
    "#     2,\n",
    "#     dropout=0.1,\n",
    "#     batch_first=True,\n",
    "# )\n",
    "\n",
    "# # copy weights from mha to ratt\n",
    "# ratt.in_proj_weight = mha.in_proj_weight\n",
    "# ratt.in_proj_bias = mha.in_proj_bias\n",
    "# ratt.out_proj.weight = mha.out_proj.weight\n",
    "# ratt.out_proj.bias = mha.out_proj.bias\n",
    "\n",
    "# # dummy input [bs, seq_len, embed_dim]\n",
    "# x = torch.ones(2, 4, 6)\n",
    "# # dummy mask [seq_len, seq_len]\n",
    "# mask = torch.ones(4, 4).triu(1)\n",
    "\n",
    "# torch.manual_seed(0)\n",
    "# output_mha, weights_mha = mha(\n",
    "#     x,\n",
    "#     x,\n",
    "#     x,\n",
    "#     need_weights=True,\n",
    "#     attn_mask=mask,\n",
    "# )\n",
    "# torch.manual_seed(0)\n",
    "# output_ratt, weights_ratt = ratt(\n",
    "#     x,\n",
    "#     x,\n",
    "#     x,\n",
    "#     need_weights=True,\n",
    "#     attn_mask=mask,\n",
    "# )\n",
    "\n",
    "# print(f\"MHA: Output shape: {output_mha.shape}, Weights shape: {weights_mha.shape}\")\n",
    "# print(f\"RATT: Output shape: {output_ratt.shape}, Weights shape: {weights_ratt.shape}\")\n",
    "\n",
    "# print(output_mha)\n",
    "# print(output_ratt)\n",
    "\n",
    "# # check if output is the same\n",
    "# assert torch.allclose(output_mha, output_ratt, atol=1e-6), \"Output is not the same\"\n",
    "# assert torch.allclose(weights_mha, weights_ratt, atol=1e-6), \"Weights are not the same\""
   ]
  },
  {
   "cell_type": "code",
   "execution_count": null,
   "metadata": {},
   "outputs": [],
   "source": []
  }
 ],
 "metadata": {
  "kernelspec": {
   "display_name": "msc-thesis-P7I560r2-py3.12",
   "language": "python",
   "name": "python3"
  },
  "language_info": {
   "codemirror_mode": {
    "name": "ipython",
    "version": 3
   },
   "file_extension": ".py",
   "mimetype": "text/x-python",
   "name": "python",
   "nbconvert_exporter": "python",
   "pygments_lexer": "ipython3",
   "version": "3.12.0"
  }
 },
 "nbformat": 4,
 "nbformat_minor": 2
}
