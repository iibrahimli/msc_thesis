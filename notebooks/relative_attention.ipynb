{
 "cells": [
  {
   "cell_type": "code",
   "execution_count": 1,
   "metadata": {},
   "outputs": [],
   "source": [
    "import torch\n",
    "from torch import nn, Tensor\n",
    "import matplotlib.pyplot as plt\n",
    "\n",
    "\n",
    "from arithmetic_lm.model import RelativeMultiheadAttention"
   ]
  },
  {
   "cell_type": "code",
   "execution_count": 2,
   "metadata": {},
   "outputs": [
    {
     "data": {
      "text/plain": [
       "5160"
      ]
     },
     "execution_count": 2,
     "metadata": {},
     "output_type": "execute_result"
    }
   ],
   "source": [
    "20 * 258"
   ]
  },
  {
   "cell_type": "code",
   "execution_count": 3,
   "metadata": {},
   "outputs": [
    {
     "name": "stdout",
     "output_type": "stream",
     "text": [
      "Output shape: torch.Size([10, 20, 64])\n",
      "Weights shape: torch.Size([10, 4, 20, 20])\n"
     ]
    }
   ],
   "source": [
    "ratt = RelativeMultiheadAttention(64, 4, dropout=0)\n",
    "\n",
    "# batch_size, seq_len, embed_dim\n",
    "x = torch.ones(10, 20, 64)\n",
    "\n",
    "output, weights = ratt(x, x, x, need_weights=True, average_attn_weights=False)\n",
    "\n",
    "print(\"Output shape:\", output.shape)\n",
    "print(\"Weights shape:\", weights.shape)\n",
    "\n",
    "# plt.imshow(weights[0, 0].detach().numpy(), interpolation=\"nearest\", aspect=\"auto\")\n",
    "# plt.colorbar()\n",
    "# plt.show()"
   ]
  },
  {
   "cell_type": "code",
   "execution_count": null,
   "metadata": {},
   "outputs": [],
   "source": []
  }
 ],
 "metadata": {
  "kernelspec": {
   "display_name": "msc-thesis-P7I560r2-py3.12",
   "language": "python",
   "name": "python3"
  },
  "language_info": {
   "codemirror_mode": {
    "name": "ipython",
    "version": 3
   },
   "file_extension": ".py",
   "mimetype": "text/x-python",
   "name": "python",
   "nbconvert_exporter": "python",
   "pygments_lexer": "ipython3",
   "version": "3.12.0"
  }
 },
 "nbformat": 4,
 "nbformat_minor": 2
}
