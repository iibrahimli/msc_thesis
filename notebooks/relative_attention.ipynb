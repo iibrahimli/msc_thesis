{
 "cells": [
  {
   "cell_type": "code",
   "execution_count": 130,
   "metadata": {},
   "outputs": [],
   "source": [
    "import torch\n",
    "from torch import nn, Tensor\n",
    "\n",
    "from arithmetic_lm.model.pos_encoding import RelativeMultiheadAttention"
   ]
  },
  {
   "cell_type": "code",
   "execution_count": 131,
   "metadata": {},
   "outputs": [],
   "source": [
    "standard_mha = nn.MultiheadAttention(\n",
    "    embed_dim=16, num_heads=8, dropout=0.0, batch_first=True\n",
    ")\n",
    "relative_mha = RelativeMultiheadAttention(\n",
    "    embed_dim=16, num_heads=8, dropout=0.0, rel_pos_k=16, batch_first=True\n",
    ")"
   ]
  },
  {
   "cell_type": "code",
   "execution_count": 132,
   "metadata": {},
   "outputs": [
    {
     "name": "stdout",
     "output_type": "stream",
     "text": [
      "standard: torch.Size([2, 3, 16])\n",
      "relative: torch.Size([2, 3, 16])\n"
     ]
    }
   ],
   "source": [
    "# ensure same weights\n",
    "relative_mha.load_state_dict(standard_mha.state_dict(), strict=False)\n",
    "\n",
    "# ensure same output\n",
    "# x: [B, L, D]\n",
    "x = torch.randn(2, 3, 16)\n",
    "standard_output = standard_mha(x, x, x, need_weights=False)[0]\n",
    "print(\"standard:\", standard_output.shape)\n",
    "relative_output = relative_mha(x, x, x, need_weights=False)[0]\n",
    "print(\"relative:\", relative_output.shape)\n",
    "assert torch.allclose(standard_output, relative_output, atol=1e-6)"
   ]
  },
  {
   "cell_type": "code",
   "execution_count": null,
   "metadata": {},
   "outputs": [],
   "source": []
  }
 ],
 "metadata": {
  "kernelspec": {
   "display_name": "msc-thesis-P7I560r2-py3.12",
   "language": "python",
   "name": "python3"
  },
  "language_info": {
   "codemirror_mode": {
    "name": "ipython",
    "version": 3
   },
   "file_extension": ".py",
   "mimetype": "text/x-python",
   "name": "python",
   "nbconvert_exporter": "python",
   "pygments_lexer": "ipython3",
   "version": "3.12.0"
  }
 },
 "nbformat": 4,
 "nbformat_minor": 2
}
