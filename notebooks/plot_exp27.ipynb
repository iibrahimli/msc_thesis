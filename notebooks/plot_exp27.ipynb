{
 "cells": [
  {
   "cell_type": "code",
   "execution_count": 6,
   "metadata": {},
   "outputs": [],
   "source": [
    "import wandb\n",
    "import pandas as pd"
   ]
  },
  {
   "cell_type": "code",
   "execution_count": 2,
   "metadata": {},
   "outputs": [],
   "source": [
    "api = wandb.Api()"
   ]
  },
  {
   "cell_type": "code",
   "execution_count": 7,
   "metadata": {},
   "outputs": [],
   "source": [
    "entity, project = \"compositional-generalization-ut\", \"experiment-27\"\n",
    "runs = api.runs(entity + \"/\" + project)"
   ]
  },
  {
   "cell_type": "code",
   "execution_count": 8,
   "metadata": {},
   "outputs": [],
   "source": [
    "# dump all runs to a csv file\n",
    "\n",
    "summary_list, config_list, name_list = [], [], []\n",
    "for run in runs:\n",
    "    # .summary contains output keys/values for\n",
    "    # metrics such as accuracy.\n",
    "    #  We call ._json_dict to omit large files\n",
    "    summary_list.append(run.summary._json_dict)\n",
    "\n",
    "    # .config contains the hyperparameters.\n",
    "    #  We remove special values that start with _.\n",
    "    config_list.append({k: v for k, v in run.config.items() if not k.startswith(\"_\")})\n",
    "\n",
    "    # .name is the human-readable name of the run.\n",
    "    name_list.append(run.name)\n",
    "\n",
    "runs_df = pd.DataFrame(\n",
    "    {\"summary\": summary_list, \"config\": config_list, \"name\": name_list}\n",
    ")\n",
    "\n",
    "runs_df.to_csv(\"project.csv\")"
   ]
  },
  {
   "cell_type": "code",
   "execution_count": 20,
   "metadata": {},
   "outputs": [
    {
     "name": "stdout",
     "output_type": "stream",
     "text": [
      "tdec_1216embd_add_10000000_s1\n",
      "973\n",
      "[{'_step': 0, 'samples': {'artifact_path': 'wandb-client-artifact://gv141z9ywb0upn40rrsodr926em36k94245q544dgg0cpx15o148pjwj7izf7l6lj2mudipnq258pvhtl0oq889wfxfmt4rr8ktri8kqsolbwf3b6mqgmqk2japtcu0h/samples.table.json', 'ncols': 6, 'nrows': 50, 'path': 'media/table/samples_0_23e54421de223b29ede5.table.json', 'sha256': '23e54421de223b29ede5636acc2bc98fb547bbd4885e285722be3b47b725e141', 'size': 5035, '_latest_artifact_path': 'wandb-client-artifact://8fnfuy4iz0v66as7pdr9t64u1gryk3wamlirdwf5tzo27ot8ofuajrf801zt6is60i9u046iqcgcd7ux194dd9jeeircdvvvmm8b9oanz31pprzlt6iaer89yk6nxq6w:latest/samples.table.json', '_type': 'table-file'}, '_runtime': 7.4991936683654785, '_timestamp': 1728654860.8798006}, {'trainer/global_step': 19, '_step': 1, 'lr-AdamW/pg1': 2.8499999999999998e-05, 'lr-AdamW/pg2': 2.8499999999999998e-05, '_runtime': 15.326038837432861, '_timestamp': 1728654868.7066457}, {'trainer/global_step': 19, '_step': 2, 'lr-AdamW/pg1': 2.8499999999999998e-05, 'lr-AdamW/pg2': 2.8499999999999998e-05, '_runtime': 15.481706142425537, '_timestamp': 1728654868.862313}, {'trainer/global_step': 19, '_step': 3, 'train_loss': 38.435638427734375, '_runtime': 15.66832184791565, 'epoch': 0, '_timestamp': 1728654869.0489287}, {'trainer/global_step': 39, '_step': 4, 'lr-AdamW/pg1': 5.849999999999999e-05, 'lr-AdamW/pg2': 5.849999999999999e-05, '_runtime': 22.235159397125244, '_timestamp': 1728654875.6157663}]\n"
     ]
    }
   ],
   "source": [
    "for run in runs:\n",
    "    history = run.scan_history()\n",
    "    print(run.name)\n",
    "    data = list(history)\n",
    "    print(len(data))\n",
    "    print(data[:5])\n",
    "    break"
   ]
  },
  {
   "cell_type": "code",
   "execution_count": null,
   "metadata": {},
   "outputs": [],
   "source": []
  }
 ],
 "metadata": {
  "kernelspec": {
   "display_name": "msc-thesis-P7I560r2-py3.12",
   "language": "python",
   "name": "python3"
  },
  "language_info": {
   "codemirror_mode": {
    "name": "ipython",
    "version": 3
   },
   "file_extension": ".py",
   "mimetype": "text/x-python",
   "name": "python",
   "nbconvert_exporter": "python",
   "pygments_lexer": "ipython3",
   "version": "3.12.0"
  }
 },
 "nbformat": 4,
 "nbformat_minor": 2
}
