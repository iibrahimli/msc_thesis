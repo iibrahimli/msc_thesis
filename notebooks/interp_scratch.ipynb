{
 "cells": [
  {
   "cell_type": "code",
   "execution_count": 63,
   "metadata": {},
   "outputs": [],
   "source": [
    "from copy import deepcopy\n",
    "\n",
    "import torch\n",
    "import numpy as np\n",
    "import matplotlib.pyplot as plt\n",
    "\n",
    "from arithmetic_lm.model import UniversalTransformer, generate\n",
    "from arithmetic_lm.tokenizer import CharTokenizer"
   ]
  },
  {
   "cell_type": "code",
   "execution_count": 2,
   "metadata": {},
   "outputs": [],
   "source": [
    "ckpt_path = \"../checkpoints/addition-1-9-digit-pad/ut_1steps_384embd_2head/step=15500-train_loss=0.0108-val_loss=4.6606.ckpt\""
   ]
  },
  {
   "cell_type": "code",
   "execution_count": 3,
   "metadata": {},
   "outputs": [],
   "source": [
    "tokenizer = CharTokenizer()"
   ]
  },
  {
   "cell_type": "code",
   "execution_count": 69,
   "metadata": {},
   "outputs": [
    {
     "data": {
      "text/plain": [
       "UniversalTransformer(\n",
       "  (embedding): Embedding(100, 384, padding_idx=99)\n",
       "  (coord_encoder): CoordinateEncoding(\n",
       "    (dropout): Dropout(p=0.1, inplace=False)\n",
       "  )\n",
       "  (encoder_layer): TransformerEncoderLayer(\n",
       "    (self_attn): MultiheadAttention(\n",
       "      (out_proj): NonDynamicallyQuantizableLinear(in_features=384, out_features=384, bias=True)\n",
       "    )\n",
       "    (linear1): Linear(in_features=384, out_features=1536, bias=True)\n",
       "    (dropout): Dropout(p=0.1, inplace=False)\n",
       "    (linear2): Linear(in_features=1536, out_features=384, bias=True)\n",
       "    (norm1): LayerNorm((384,), eps=1e-05, elementwise_affine=True)\n",
       "    (norm2): LayerNorm((384,), eps=1e-05, elementwise_affine=True)\n",
       "    (dropout1): Dropout(p=0.1, inplace=False)\n",
       "    (dropout2): Dropout(p=0.1, inplace=False)\n",
       "  )\n",
       "  (decoder_layer): TransformerDecoderLayer(\n",
       "    (self_attn): MultiheadAttention(\n",
       "      (out_proj): NonDynamicallyQuantizableLinear(in_features=384, out_features=384, bias=True)\n",
       "    )\n",
       "    (multihead_attn): MultiheadAttention(\n",
       "      (out_proj): NonDynamicallyQuantizableLinear(in_features=384, out_features=384, bias=True)\n",
       "    )\n",
       "    (linear1): Linear(in_features=384, out_features=1536, bias=True)\n",
       "    (dropout): Dropout(p=0.1, inplace=False)\n",
       "    (linear2): Linear(in_features=1536, out_features=384, bias=True)\n",
       "    (norm1): LayerNorm((384,), eps=1e-05, elementwise_affine=True)\n",
       "    (norm2): LayerNorm((384,), eps=1e-05, elementwise_affine=True)\n",
       "    (norm3): LayerNorm((384,), eps=1e-05, elementwise_affine=True)\n",
       "    (dropout1): Dropout(p=0.1, inplace=False)\n",
       "    (dropout2): Dropout(p=0.1, inplace=False)\n",
       "    (dropout3): Dropout(p=0.1, inplace=False)\n",
       "  )\n",
       "  (lm_head): Linear(in_features=384, out_features=100, bias=False)\n",
       ")"
      ]
     },
     "execution_count": 69,
     "metadata": {},
     "output_type": "execute_result"
    }
   ],
   "source": [
    "# load model\n",
    "ckpt = torch.load(ckpt_path, map_location=\"mps\")\n",
    "model = UniversalTransformer(\n",
    "    **ckpt[\"hyper_parameters\"][\"model_hparams\"], vocab_size=tokenizer.vocab_size\n",
    ")\n",
    "# state dict has a prefix \"model.\" in the key names\n",
    "model.load_state_dict({k[6:]: v for k, v in ckpt[\"state_dict\"].items()})\n",
    "model.eval()"
   ]
  },
  {
   "cell_type": "code",
   "execution_count": 5,
   "metadata": {},
   "outputs": [],
   "source": [
    "def eval_answer_addition(\n",
    "    model,\n",
    "    tokenizer,\n",
    "    a: int,\n",
    "    b: int,\n",
    "    pad_zeros: int = 10,\n",
    "    max_len: int = 11,\n",
    "    verbose: bool = False,\n",
    ") -> tuple[int, bool]:\n",
    "    # compute real answer\n",
    "    real_answer = a + b\n",
    "\n",
    "    # prepare prompt\n",
    "    prompt = f\"\\n${str(a).zfill(pad_zeros)}+{str(b).zfill(pad_zeros)}\"\n",
    "    if verbose:\n",
    "        print(f\"prompt: {prompt}\")\n",
    "    prompt = tokenizer.encode(prompt)\n",
    "    prompt = torch.tensor(prompt)\n",
    "\n",
    "    # generate\n",
    "    out_ids = generate(\n",
    "        model=model,\n",
    "        idx=torch.tensor(tokenizer.encode(\"=\")),\n",
    "        max_new_tokens=max_len,\n",
    "        encoder_source=prompt,\n",
    "        stop_token=tokenizer.encode(\"$\")[0],\n",
    "    )\n",
    "    out = tokenizer.decode(out_ids[0].tolist())\n",
    "    if verbose:\n",
    "        print(f\"output: {out}\")\n",
    "\n",
    "    # extract answer\n",
    "    pred_answer = int(out.replace(\"$\", \"\"))\n",
    "    return out, pred_answer == real_answer"
   ]
  },
  {
   "cell_type": "code",
   "execution_count": 6,
   "metadata": {},
   "outputs": [
    {
     "name": "stdout",
     "output_type": "stream",
     "text": [
      "prompt: \n",
      "$0000199999+0000004562\n",
      "output: 00000204561$\n",
      "true answer: 204561\n",
      "correct: True\n"
     ]
    }
   ],
   "source": [
    "a = 199999\n",
    "b = 4562\n",
    "out, correct = eval_answer_addition(\n",
    "    model, tokenizer, a, b, pad_zeros=10, max_len=12, verbose=True\n",
    ")\n",
    "print(f\"true answer: {a+b}\")\n",
    "print(f\"correct: {correct}\")"
   ]
  },
  {
   "cell_type": "markdown",
   "metadata": {},
   "source": [
    "## Evaluate different number of digits in operands\n",
    "\n",
    "Model is trained on NxN (0-padded) addition, where both operands have the same number of digits. We evaluate the model on addition of two numbers with different number of digits (still padded to same length). "
   ]
  },
  {
   "cell_type": "code",
   "execution_count": 7,
   "metadata": {},
   "outputs": [
    {
     "name": "stdout",
     "output_type": "stream",
     "text": [
      "[[1.   1.   1.   1.   1.   1.   1.   1.   0.98 0.  ]\n",
      " [1.   1.   1.   0.98 0.99 1.   1.   0.99 0.99 0.  ]\n",
      " [1.   1.   1.   1.   1.   0.99 0.98 0.97 1.   0.  ]\n",
      " [1.   1.   1.   1.   0.99 0.97 0.98 0.98 0.97 0.  ]\n",
      " [1.   1.   0.99 1.   0.99 0.97 1.   0.95 0.98 0.  ]\n",
      " [1.   1.   0.98 0.98 1.   0.98 0.97 0.97 0.97 0.  ]\n",
      " [0.99 0.99 1.   0.99 0.99 0.92 0.99 0.96 0.94 0.  ]\n",
      " [1.   1.   0.99 0.98 0.95 0.96 0.88 0.6  0.98 0.01]\n",
      " [0.97 0.96 0.94 0.95 0.92 0.95 0.96 0.83 0.98 0.  ]\n",
      " [0.   0.   0.   0.   0.   0.   0.   0.   0.   0.09]]\n"
     ]
    }
   ],
   "source": [
    "# matrix of accuracy\n",
    "max_digits = 10\n",
    "n_samples_per_cell = 100\n",
    "pad_zeros = 10\n",
    "\n",
    "accuracy_matrix = np.zeros((max_digits, max_digits))\n",
    "mistakes = []\n",
    "\n",
    "for n_a in range(1, max_digits + 1):\n",
    "    for n_b in range(1, max_digits + 1):\n",
    "        correct = 0\n",
    "        for _ in range(n_samples_per_cell):\n",
    "            # generate random numbers\n",
    "            a = np.random.randint(10 ** (n_a - 1), 10**n_a)\n",
    "            b = np.random.randint(10 ** (n_b - 1), 10**n_b)\n",
    "            _, is_correct = eval_answer_addition(\n",
    "                model, tokenizer, a, b, pad_zeros=pad_zeros, max_len=12, verbose=False\n",
    "            )\n",
    "            # save mistakes\n",
    "            if not is_correct:\n",
    "                mistakes.append((a, b))\n",
    "            correct += is_correct\n",
    "        accuracy_matrix[n_a - 1, n_b - 1] = correct / n_samples_per_cell\n",
    "\n",
    "print(accuracy_matrix)"
   ]
  },
  {
   "cell_type": "code",
   "execution_count": 8,
   "metadata": {},
   "outputs": [
    {
     "data": {
      "image/png": "[encoded data removed]",
      "text/plain": [
       "<Figure size 640x480 with 2 Axes>"
      ]
     },
     "metadata": {},
     "output_type": "display_data"
    }
   ],
   "source": [
    "# plot accuracy matrix\n",
    "plt.imshow(accuracy_matrix, cmap=\"viridis\", interpolation=\"none\")\n",
    "plt.colorbar()\n",
    "# set xtiks and yticks to be integers\n",
    "plt.xticks(np.arange(max_digits), np.arange(1, max_digits + 1))\n",
    "plt.yticks(np.arange(max_digits), np.arange(1, max_digits + 1))\n",
    "plt.xlabel(\"Number of digits in b\")\n",
    "plt.ylabel(\"Number of digits in a\")\n",
    "plt.title(\n",
    "    f\"Accuracy of addition, padded to {pad_zeros} ({n_samples_per_cell} samples per cell)\"\n",
    ")\n",
    "# invert y axis\n",
    "plt.gca().invert_yaxis()\n",
    "plt.show()"
   ]
  },
  {
   "cell_type": "code",
   "execution_count": 11,
   "metadata": {},
   "outputs": [
    {
     "name": "stdout",
     "output_type": "stream",
     "text": [
      "9666526984 + 9049891020 = 18716418004\n",
      "                    pred: 88616418004 (88616418004$) [10+10 digit]\n",
      "\n",
      "2454686047 + 8642336167 = 11097022214\n",
      "                    pred: 11097022215 (11097022215$) [10+10 digit]\n",
      "\n",
      "2634669234 + 1884757589 = 4519426823\n",
      "                    pred: 1519426823 (01519426823$) [10+10 digit]\n",
      "\n",
      "4920621115 + 9955806346 = 14876427461\n",
      "                    pred: 44876427462 (44876427462$) [10+10 digit]\n",
      "\n",
      "4540242457 + 4709173963 = 9249416420\n",
      "                    pred: 1249416421 (01249416421$) [10+10 digit]\n",
      "\n"
     ]
    }
   ],
   "source": [
    "# print mistakes\n",
    "for a, b in mistakes[-5:]:\n",
    "    out, correct = eval_answer_addition(\n",
    "        model, tokenizer, a, b, pad_zeros=pad_zeros, max_len=12, verbose=False\n",
    "    )\n",
    "    if not correct:\n",
    "        n_a = len(str(a))\n",
    "        n_b = len(str(b))\n",
    "        out_int = int(out.replace(\"$\", \"\"))\n",
    "        n_true_ans = len(str(a + b))\n",
    "        n_pred_ans = len(str(out_int))\n",
    "        print(f\"{a} + {b} = {a+b}\")\n",
    "        print(\n",
    "            \" \" * (n_a + n_b + (n_true_ans - n_pred_ans))\n",
    "            + f\"pred: {out_int} ({out}) [{n_a}+{n_b} digit]\"\n",
    "        )\n",
    "        print()"
   ]
  },
  {
   "cell_type": "markdown",
   "metadata": {},
   "source": [
    "## Ablate residual stream of the encoder"
   ]
  },
  {
   "cell_type": "code",
   "execution_count": 130,
   "metadata": {},
   "outputs": [],
   "source": [
    "def predict_next_ablating_res_stream(\n",
    "    model: torch.nn.Module,\n",
    "    prompt: torch.Tensor,\n",
    "    decoder_prompt: torch.Tensor,\n",
    "    ablate_positions: list[int],\n",
    ") -> str:\n",
    "    \"\"\"\n",
    "    Predict next token while ablating positions in the residual stream\n",
    "    at the end of encoder. ablate_positions is a list of integers\n",
    "    of positions in the sequence to set to zero.\n",
    "    \"\"\"\n",
    "\n",
    "    hooked_model = deepcopy(model)\n",
    "    hooked_model.eval()\n",
    "\n",
    "    # hook\n",
    "    def mean_ablate_pos_in_res_stream(module, args, kwargs, output):\n",
    "        # set output to mean at ablated positions\n",
    "        # output shape = [bs, seq_len, d_model]\n",
    "        output[:, ablate_positions, :] = output.mean(dim=1, keepdim=True)\n",
    "        return output\n",
    "\n",
    "    hooked_model.encoder_layer.register_forward_hook(\n",
    "        mean_ablate_pos_in_res_stream, with_kwargs=True\n",
    "    )\n",
    "\n",
    "    logits = hooked_model(source=prompt, target=decoder_prompt)[0, -1, :]\n",
    "    pred_token = torch.argmax(logits).item()\n",
    "    pred_token_str = tokenizer.decode([pred_token])\n",
    "\n",
    "    # delete hooked model\n",
    "    del hooked_model\n",
    "\n",
    "    return pred_token_str"
   ]
  },
  {
   "cell_type": "code",
   "execution_count": 133,
   "metadata": {},
   "outputs": [
    {
     "name": "stdout",
     "output_type": "stream",
     "text": [
      "prompt: '\\n$0000000123+0000000456'\n",
      "true_ans: 579\n",
      "decoder prompt: =00000000\n",
      "pred_token_str: 5\n",
      "'.$0000000123+0000000456' 5\n",
      "'\\n.0000000123+0000000456' 5\n",
      "'\\n$.000000123+0000000456' 5\n",
      "'\\n$0.00000123+0000000456' 5\n",
      "'\\n$00.0000123+0000000456' 5\n",
      "'\\n$000.000123+0000000456' 5\n",
      "'\\n$0000.00123+0000000456' 5\n",
      "'\\n$00000.0123+0000000456' 5\n",
      "'\\n$000000.123+0000000456' 5\n",
      "'\\n$0000000.23+0000000456' 5\n",
      "'\\n$00000001.3+0000000456' 5\n",
      "'\\n$000000012.+0000000456' 5\n",
      "'\\n$0000000123.0000000456' 5\n",
      "'\\n$0000000123+.000000456' 5\n",
      "'\\n$0000000123+0.00000456' 5\n",
      "'\\n$0000000123+00.0000456' 5\n",
      "'\\n$0000000123+000.000456' 5\n",
      "'\\n$0000000123+0000.00456' 5\n",
      "'\\n$0000000123+00000.0456' 5\n",
      "'\\n$0000000123+000000.456' 5\n",
      "'\\n$0000000123+0000000.56' 5\n",
      "'\\n$0000000123+00000004.6' 5\n",
      "'\\n$0000000123+000000045.' 5\n"
     ]
    },
    {
     "name": "stderr",
     "output_type": "stream",
     "text": [
      "/Users/imran/Library/Caches/pypoetry/virtualenvs/msc-thesis-P7I560r2-py3.12/lib/python3.12/site-packages/torch/nn/functional.py:5109: UserWarning: Support for mismatched key_padding_mask and attn_mask is deprecated. Use same type for both instead.\n",
      "  warnings.warn(\n"
     ]
    },
    {
     "name": "stdout",
     "output_type": "stream",
     "text": [
      "'.....................56' 7\n"
     ]
    }
   ],
   "source": [
    "a = 123\n",
    "b = 456\n",
    "decoder_prompt_str = \"=00000000\"\n",
    "\n",
    "prompt_str = f\"\\n${str(a).zfill(pad_zeros)}+{str(b).zfill(pad_zeros)}\"\n",
    "print(\"prompt:\", repr(prompt_str))\n",
    "true_ans = a + b\n",
    "print(\"true_ans:\", true_ans)\n",
    "\n",
    "# just before first actual digit\n",
    "decoder_prompt = torch.tensor([tokenizer.encode(decoder_prompt_str)])\n",
    "print(f\"decoder prompt:\", decoder_prompt_str)\n",
    "\n",
    "prompt = tokenizer.encode(prompt_str)\n",
    "prompt = torch.tensor([prompt])\n",
    "\n",
    "# without ablation\n",
    "logits = model(source=prompt, target=decoder_prompt)[0, -1, :]\n",
    "pred_token = torch.argmax(logits).item()\n",
    "print(\"pred_token_str:\", tokenizer.decode([pred_token]))\n",
    "\n",
    "# ablating digits\n",
    "for i in range(prompt.shape[1]):\n",
    "    pred_token_ablated = predict_next_ablating_res_stream(\n",
    "        model, prompt, decoder_prompt, [i]\n",
    "    )\n",
    "    # str representation of ablation, set positions to '.'\n",
    "    ablated_prompt_str = prompt_str[:i] + \".\" + prompt_str[i + 1 :]\n",
    "    print(repr(ablated_prompt_str), pred_token_ablated)\n",
    "\n",
    "\n",
    "# ablating multiple digits\n",
    "ablate_digits = list(range(21))\n",
    "pred_token_ablated = predict_next_ablating_res_stream(\n",
    "    model, prompt, decoder_prompt, ablate_digits\n",
    ")\n",
    "ablated_prompt_str = [\n",
    "    \".\" if i in ablate_digits else c for i, c in enumerate(prompt_str)\n",
    "]\n",
    "ablated_prompt_str = \"\".join(ablated_prompt_str)\n",
    "print(repr(ablated_prompt_str), pred_token_ablated)"
   ]
  },
  {
   "cell_type": "code",
   "execution_count": null,
   "metadata": {},
   "outputs": [],
   "source": []
  }
 ],
 "metadata": {
  "kernelspec": {
   "display_name": "msc-thesis-P7I560r2-py3.12",
   "language": "python",
   "name": "python3"
  },
  "language_info": {
   "codemirror_mode": {
    "name": "ipython",
    "version": 3
   },
   "file_extension": ".py",
   "mimetype": "text/x-python",
   "name": "python",
   "nbconvert_exporter": "python",
   "pygments_lexer": "ipython3",
   "version": "3.12.0"
  }
 },
 "nbformat": 4,
 "nbformat_minor": 2
}
